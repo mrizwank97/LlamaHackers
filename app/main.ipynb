{
 "cells": [
  {
   "cell_type": "code",
   "execution_count": 1,
   "metadata": {},
   "outputs": [
    {
     "name": "stderr",
     "output_type": "stream",
     "text": [
      "flaml.automl is not available. Please install flaml[automl] to enable AutoML functionalities.\n"
     ]
    }
   ],
   "source": [
    "import os\n",
    "import autogen\n",
    "from langchain_community.document_loaders import PyPDFDirectoryLoader\n",
    "from langchain_community.document_loaders.image import UnstructuredImageLoader\n",
    "from autogen import register_function\n",
    "from typing import Annotated, Literal"
   ]
  },
  {
   "cell_type": "code",
   "execution_count": 2,
   "metadata": {},
   "outputs": [],
   "source": [
    "# def parse_files_in_directory(directory_path):\n",
    "    \n",
    "#     parsed_data = parse_pdfs(directory_path)\n",
    "\n",
    "#     # for filename in os.listdir(directory_path):\n",
    "#         # file_path = os.path.join(directory_path, filename)\n",
    "        \n",
    "#         # if filename.lower().endswith(('.png', '.jpg', '.jpeg', '.tiff', '.bmp')):\n",
    "#         #     loader = UnstructuredImageLoader(file_path)\n",
    "#         #     documents = loader.load()\n",
    "#         #     parsed_text = ' '.join([doc.page_content for doc in documents])\n",
    "\n",
    "#         # else:\n",
    "#         #     continue\n",
    "\n",
    "#         # parsed_data[filename] = parsed_text\n",
    "\n",
    "#     return parsed_data\n",
    "\n",
    "\n",
    "def parse_pdfs(directory:str =\"../data/\") -> dict:\n",
    "# def parse_pdfs(dir_path=\"../data/\"):\n",
    "    parsed_data = {}\n",
    "    loader = PyPDFDirectoryLoader(directory, extract_images=True)\n",
    "    documents = loader.load()\n",
    "    for page in documents:\n",
    "        if parsed_data.get(page.metadata[\"source\"]) is None:\n",
    "            parsed_data[page.metadata[\"source\"]] = [page.page_content]\n",
    "        else:\n",
    "            parsed_data[page.metadata[\"source\"]].append(page.page_content)\n",
    "    return parsed_data\n"
   ]
  },
  {
   "cell_type": "code",
   "execution_count": 3,
   "metadata": {},
   "outputs": [],
   "source": [
    "api_key = os.environ.get(\"GROQ_API_KEY\")\n",
    "\n",
    "config_list = [\n",
    "  {\n",
    "    \"model\": \"llama-3.2-11b-text-preview\",\n",
    "    \"base_url\": \"https://api.groq.com/openai/v1/chat/completions\",\n",
    "    \"api_type\": \"groq\",\n",
    "    \"api_key\": api_key,\n",
    "    \"api_rate_limit\": 100\n",
    "  }\n",
    "]\n",
    "\n",
    "# llm_config = config_list[0]\n",
    "llm_config={\"config_list\": config_list}"
   ]
  },
  {
   "cell_type": "code",
   "execution_count": 4,
   "metadata": {},
   "outputs": [],
   "source": [
    "# user_proxy = autogen.ConversableAgent(\n",
    "#     name=\"Admin\",\n",
    "#     system_message=\"Give the task, and send instructions to doc_classifier to classify the documents in the data folder\",\n",
    "#     code_execution_config=False,\n",
    "#     llm_config=llm_config,\n",
    "#     human_input_mode=\"ALWAYS\",\n",
    "# )\n",
    "\n",
    "user_proxy = autogen.ConversableAgent(\n",
    "    name=\"User\",\n",
    "    is_termination_msg=lambda x: x.get(\"content\", \"\") and x.get(\"content\", \"\").rstrip().endswith(\"TERMINATE\"),\n",
    "    human_input_mode=\"NEVER\",\n",
    "    # max_consecutive_auto_reply=10,\n",
    "    # code_execution_config={\n",
    "    #     \"work_dir\": \"code\",\n",
    "    #     \"use_docker\": False\n",
    "    # },\n",
    "    llm_config=False,\n",
    ")"
   ]
  },
  {
   "cell_type": "code",
   "execution_count": 5,
   "metadata": {},
   "outputs": [],
   "source": [
    "doc_parse_caller = autogen.ConversableAgent(\n",
    "    name=\"Doc Parse Caller\",\n",
    "    llm_config=llm_config,\n",
    "    description=\"A caller for parsing documents\",\n",
    "    system_message=\"You are a helpful AI assistant. Use the provided python function parse_pdfs(directory), to parse the documents at the directory '../data/'.\",\n",
    "    is_termination_msg=lambda x: x.get(\"content\", \"\") and x.get(\"content\", \"\").rstrip().endswith(\"TERMINATE\"),\n",
    ")\n",
    "\n",
    "doc_parser = autogen.ConversableAgent(\n",
    "    name=\"Doc Parser\",\n",
    "    llm_config=llm_config,\n",
    "    system_message=\"You are an executer that parses documents. If you receive a python call instruction, then you execute it, or else ignore the message.\"\n",
    "                   \"Reply TERMINATE afer you execute the python function\",\n",
    ")\n",
    "\n",
    "doc_classifier = autogen.ConversableAgent(\n",
    "    name=\"Doc Classifier\",\n",
    "    llm_config=llm_config,\n",
    "    description=\"A classifier that classifies the text that has been parsed\",\n",
    "    system_message=\"You are a helpful AI assistant.\"\n",
    "                   \"For each document provided, categorize them from one of these options ['Passport', 'Residence Permit', 'Transaction', 'Health Insurance', 'Other'] and provide it as a list.\"\n",
    "                   \"Reply TERMINATE when the task is done.\",\n",
    ")\n",
    "\n"
   ]
  },
  {
   "cell_type": "code",
   "execution_count": 6,
   "metadata": {},
   "outputs": [],
   "source": [
    "# user_proxy.register_function(\n",
    "#     function_map={\n",
    "#         \"parse_pdfs\": parse_pdfs()\n",
    "#     }\n",
    "# )\n",
    "\n",
    "register_function(\n",
    "    parse_pdfs,\n",
    "    caller=doc_parse_caller,  \n",
    "    executor=doc_parser,  \n",
    "    name=\"parse_pdfs\",  \n",
    "    description=\"A simple document parser\",  # A description of the tool.\n",
    ")\n",
    "\n",
    "# # Register the tool signature with the assistant agent.\n",
    "# doc_parse_caller.register_for_llm(name=\"parse_pdfs\", description=\"A simple pdf parser\")(parse_pdfs)\n",
    "\n",
    "# # Register the tool function with the user proxy agent.\n",
    "# doc_parser.register_for_execution(name=\"parse_pdfs\")(parse_pdfs)"
   ]
  },
  {
   "cell_type": "code",
   "execution_count": 7,
   "metadata": {},
   "outputs": [],
   "source": [
    "groupchat = autogen.GroupChat(\n",
    "    agents=[user_proxy, doc_parse_caller, doc_parser, doc_classifier],\n",
    "    messages=[],\n",
    "    max_round=5,\n",
    "    allowed_or_disallowed_speaker_transitions={\n",
    "        user_proxy: [doc_parse_caller],\n",
    "        doc_parse_caller: [doc_parser],\n",
    "        doc_parser: [doc_classifier],\n",
    "        doc_classifier: [user_proxy],\n",
    "    },\n",
    "    speaker_transitions_type=\"allowed\",\n",
    ")\n",
    "\n",
    "manager = autogen.GroupChatManager(groupchat=groupchat, llm_config=llm_config)"
   ]
  },
  {
   "cell_type": "code",
   "execution_count": 8,
   "metadata": {},
   "outputs": [
    {
     "data": {
      "text/plain": [
       "[{'type': 'function',\n",
       "  'function': {'description': 'A simple document parser',\n",
       "   'name': 'parse_pdfs',\n",
       "   'parameters': {'type': 'object',\n",
       "    'properties': {'directory': {'type': 'string',\n",
       "      'default': '../data/',\n",
       "      'description': 'directory'}},\n",
       "    'required': []}}}]"
      ]
     },
     "execution_count": 8,
     "metadata": {},
     "output_type": "execute_result"
    }
   ],
   "source": [
    "doc_parse_caller.llm_config[\"tools\"]"
   ]
  },
  {
   "cell_type": "code",
   "execution_count": 9,
   "metadata": {},
   "outputs": [],
   "source": [
    "# def parse_calling(recipient, messages, sender, config):\n",
    "#     # return f\"Can you provide the python function to call for parsing the documents?\\n\\n {recipient.chat_messages_for_summary(sender)[-1]['content']}\"\n",
    "#     #print(f\"{recipient.chat_messages_for_summary(sender)[-1]['content']}\")\n",
    "    \n",
    "#     # if isinstance(recipient.chat_messages_for_summary(sender)[-1]['content'], dict):\n",
    "#     #     return \"TERMINATE\"\n",
    "#     # else:\n",
    "#     return \"I have some pdf documents in the directory '../data/', and I would like to parse the documents in this directory\"\n",
    "\n",
    "\n",
    "# def parsed_docs(recipient, messages, sender, config):\n",
    "#     # return f\"Can you provide the python function to call for parsing the documents?\\n\\n {recipient.chat_messages_for_summary(sender)[-1]['content']}\"\n",
    "#     #print(f\"{recipient.chat_messages_for_summary(sender)[-1]['content']}\")\n",
    "#     return \"Here are the parsed documents to be classified\"\n",
    "\n",
    "\n",
    "# doc_parser.register_nested_chats(\n",
    "#     [\n",
    "#         {\n",
    "#             \"recipient\": doc_parse_caller,\n",
    "#             \"message\": parse_calling,\n",
    "#             \"max_turns\": 2,\n",
    "#             \"summary_method\": \"last_msg\",\n",
    "#         },\n",
    "#         {\n",
    "#             \"recipient\": user_proxy,\n",
    "#             \"message\": parsed_docs,\n",
    "#             \"max_turns\": 1,\n",
    "#             \"summary_method\": \"last_msg\",\n",
    "#         }\n",
    "#     ],\n",
    "#     trigger=manager,  # condition=my_condition,\n",
    "# )"
   ]
  },
  {
   "cell_type": "code",
   "execution_count": 10,
   "metadata": {},
   "outputs": [
    {
     "name": "stdout",
     "output_type": "stream",
     "text": [
      "\u001b[33mUser\u001b[0m (to chat_manager):\n",
      "\n",
      "I have some pdf documents in the directory '../data/', and I would like to know what type of documents they are (in terms of classification)\n",
      "\n",
      "--------------------------------------------------------------------------------\n",
      "\u001b[32m\n",
      "Next speaker: Doc Parse Caller\n",
      "\u001b[0m\n",
      "\u001b[31m\n",
      ">>>>>>>> USING AUTO REPLY...\u001b[0m\n",
      "\u001b[33mDoc Parse Caller\u001b[0m (to chat_manager):\n",
      "\n",
      "\u001b[32m***** Suggested tool call (call_tdh3): parse_pdfs *****\u001b[0m\n",
      "Arguments: \n",
      "{\"directory\": \"../data/\"}\n",
      "\u001b[32m*******************************************************\u001b[0m\n",
      "\n",
      "--------------------------------------------------------------------------------\n",
      "\u001b[32m\n",
      "Next speaker: Doc Parser\n",
      "\u001b[0m\n",
      "\u001b[31m\n",
      ">>>>>>>> USING AUTO REPLY...\u001b[0m\n",
      "\u001b[35m\n",
      ">>>>>>>> EXECUTING FUNCTION parse_pdfs...\u001b[0m\n",
      "\u001b[33mDoc Parser\u001b[0m (to chat_manager):\n",
      "\n",
      "\u001b[33mDoc Parser\u001b[0m (to chat_manager):\n",
      "\n",
      "\u001b[32m***** Response from calling tool (call_tdh3) *****\u001b[0m\n",
      "{\"..\\\\data\\\\ahmad.pdf\": [\"EUR Statement\\nGenerated on the 1 Sept 2023\\nPage  of 1 1© 2023 Revolut Bank UAB\\nReport lost or stolen card\\n+370 5 214 3608\\nGet help directly In app\\nScan the QR code\\nRevolut Bank UAB is a credit institution licensed in the Republic of Lithuania with company number 304580906 and authorisation code \\nLB002119, and whose registered office is at Konstitucijos ave. 21B, LT-08130 Vilnius, the Republic of Lithuania. We are licensed and \\nregulated by the Bank of Lithuania and the European Central Bank. The deposits are protected by Lithuanian Deposit Insurance System \\nbut some exceptions may apply. Please refer to our Deposit Insurance Information document . More information on deposit here\\ninsurance of the State Enterprise Deposit and Investment Insurance (VĮ “Indėlių ir investicijų draudimas”) is available at www.iidraudimas.\\n. If you have any questions, please reach out to us via the in-app chat in the Revolut app.lt\\nTransaction\\nStart date Description Money out Money in\\n1 Sept 2023 To MR OU MME CHANTOURY €500.00\\nTo: MR OU MME CHANTOURY, FR7630004017810000048071080\\nAhmad Ahmad\\nAvenue de l'Héliport 42\\nStudeopolis, Chambre 2.18\\n1000\\nBruxelles\\nBruxelles\\n IBAN\\nBIC\\n \\nLT833250030934157995\\nREVOLT21\\n \"], \"..\\\\data\\\\pass.pdf\": [\"EH02965816BGD96\\nP<BGDAHMAD<<<<<\\n3\\nPASSPORT\\n22kc116\\nTelephone No:\\nAddress:INTERNATION\\nRelatianship:\\nName:ABU SAIID MUHA\\nEmergency Contact\\nPemanent Addross:\\nSpouse's Name\\nMother's Name:\\nFather's Name\\nName:\\nPERSONALDAT\\n53WO KUALA\\nAHMAD\\nFATHER\\n60147371\\n08\\n05\\nAHN\\n212051M2512082<<\\nEC2025\\nEO2020\\nSex\\nEC1996\\nGLADESHI\\nUMPUR\\nALISLAMICUNIVERSITYJLN GOM\\nMMAD ABDUL MAJID\\nOHAL,NALCHITYNALCHITY.JHA\\nKKHIN BHABANIPURSIKDARBA\\nERUN NAHAR\\nBU SAIID MUHAMMAD ABDUL MA\\nflaf/Dateoflssue\\nANDEMERGENCYCONT\\nA\\nKUALALUMPUR\\n/DateofBirth\\nNationaiity\\nfs/DateofExpiny\\nBGD\\nenName\\n/PiaceofBirth\\nMd.Moshiur Rahman\\nBangladesh High Com\\nKuala Lumpur,Mala\\nPassport&VisaW\\nCounsellor<<<<<<<<<<<<00\\n<<<<<<<<<<<<<<\\nPIDHAKA\\n0503339\\n964217352001645\\nG/PersonalNo\\nH0296581\\nysia\\nmission\\nTalukdar\\nBAK\\nAKATI\\nRI,NACHAN\\nHolder'sSign\\nCfG Hk/PreviousPassport\\n/PASSPORTNO.\\nofBangladesh\\nEH 0296581\"], \"..\\\\data\\\\residence.pdf\": [\"BEL 2 TITRE DE SEJOUR 5261785 20 5261785 20 NOM Prénoms/SURNAME Farenames AHMAD \\nNATIONAEFE NATIONAL M/M BGD \\nSEXE DATE DE NAISSANCE SEX DATE OF BIRTH 05 12 1996 CAT. DU TITRE TYPE OF PERMIT VALABLE JUSQU AU/CARD EXPIRY A. SEJOUR LIMITE 31 10 2024 \\nREMARQUES REMARKS N REGISTRE NATIONAL 96.12.05-751.35 \\nwwww.erucoueei \\nRESIDENCE PERMIT \\nREMARQUES / REMARKS 33A0 MARCHE DU TRAVAIL IMITE ETUDIANT, PROGRAMME DE MOBILITTE DATE DE DELIVRANCE LIEU DE DELIVRANCE PLACE OF ISSUE DATE OF IssUE BRUXELLES 19 01 2023 LIEU DE NAISSANCE/PLACE OF BIRTH KUALA LUMPUR \\nEUEU \\nIDBEL5261785204<<<<<<<<<<<<<<< 9612051 M2410317BGD961205751352 AHMAD<<<<<<<<<<<<<<<<<<<<<<<<< 526178520\\nDATE DE NAISSANCE/\\nDATE OF BIRTH\\n05121996\\nVALABLE JUSQU'AU / CARD EXPIRY\\n31102024\\nN8REGISTRE NATI0NAL 96.12.05-751.35\\nCAT.DU TITRE/ TYPE OF PERMIT\\nA.SEJOUR LIMITE\\nRESIDENCE PERMIT\\nNATIONALTE\\nNATIONALITY\\nREDESEUOUR\\nBGD\\nREMARQUESIREMARKS\\nNoM Prenoms/ SURNA\\nAHMAD\\nM/M\\nSEXE/\\nS\\n52617852033A01\\nIDBEL5261785204<<<<\\n9612051M2410317BGD961205751352\\nAHMAD<<<<<<<<<<<<<<<<\\nLIEU DEDELIVRANCEIPLACE OF ISSUE\\nLIEU DE NAISSANCE PLACE OF BIRTH\\nKUALALUMPUR\\nBRUXELLES\\nETUDIANT PROGRAMME DE MOBILITE\\nMARCHEDU.TRAVAILLIMITE\\nREMARQUES /REMARKS\\nDATE DE DELIVRANCE\\n1901.2023\\nDATE OFISSUE\"]}\n",
      "\u001b[32m**************************************************\u001b[0m\n",
      "\n",
      "--------------------------------------------------------------------------------\n",
      "\u001b[32m\n",
      "Next speaker: Doc Classifier\n",
      "\u001b[0m\n",
      "\u001b[31m\n",
      ">>>>>>>> USING AUTO REPLY...\u001b[0m\n",
      "\u001b[33mDoc Classifier\u001b[0m (to chat_manager):\n",
      "\n",
      "Based on the provided documents, the classification can be made as follows:\n",
      "\n",
      "- Passport: [\"..\\\\data\\\\pass.pdf\"]\n",
      "- Residence Permit: [\"..\\\\data\\\\residence.pdf\"]\n",
      "- Transaction: [\"..\\\\data\\\\ahmad.pdf\"] \n",
      "\n",
      "TERMINATE\n",
      "\n",
      "--------------------------------------------------------------------------------\n",
      "\u001b[32m\n",
      "Next speaker: User\n",
      "\u001b[0m\n"
     ]
    },
    {
     "name": "stderr",
     "output_type": "stream",
     "text": [
      "c:\\Users\\ahmad\\Desktop\\LlamaHackers\\venv\\Lib\\site-packages\\autogen\\oai\\groq.py:280: UserWarning: Cost calculation not available for model llama-3.2-11b-text-preview\n",
      "  warnings.warn(f\"Cost calculation not available for model {model}\", UserWarning)\n"
     ]
    }
   ],
   "source": [
    "result = user_proxy.initiate_chat(\n",
    "    manager,\n",
    "    # message=\"Parse the documents and classify each of them by a heading\",\n",
    "    message=\"I have some pdf documents in the directory '../data/', and I would like to know what type of documents they are (in terms of classification)\",\n",
    ")"
   ]
  },
  {
   "cell_type": "code",
   "execution_count": null,
   "metadata": {},
   "outputs": [],
   "source": []
  }
 ],
 "metadata": {
  "kernelspec": {
   "display_name": "venv",
   "language": "python",
   "name": "python3"
  },
  "language_info": {
   "codemirror_mode": {
    "name": "ipython",
    "version": 3
   },
   "file_extension": ".py",
   "mimetype": "text/x-python",
   "name": "python",
   "nbconvert_exporter": "python",
   "pygments_lexer": "ipython3",
   "version": "3.12.4"
  }
 },
 "nbformat": 4,
 "nbformat_minor": 2
}
